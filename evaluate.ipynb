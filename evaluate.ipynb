{
 "cells": [
  {
   "cell_type": "code",
   "execution_count": 1,
   "metadata": {},
   "outputs": [
    {
     "name": "stdout",
     "output_type": "stream",
     "text": [
      "4.1.2\n"
     ]
    }
   ],
   "source": [
    "import numpy as np\n",
    "from time import time\n",
    "from gensim.test.utils import datapath\n",
    "from gensim import utils\n",
    "import logging\n",
    "from naive_word2vec import NaiveWord2VecNGS\n",
    "\n",
    "import gensim\n",
    "print(gensim.__version__)"
   ]
  },
  {
   "cell_type": "code",
   "execution_count": 2,
   "metadata": {},
   "outputs": [],
   "source": [
    "logging.root.setLevel('WARNING')"
   ]
  },
  {
   "cell_type": "code",
   "execution_count": 3,
   "metadata": {},
   "outputs": [],
   "source": [
    "def most_similar_score(vocab, source, target, source_model, target_model, top=5):\n",
    "    result = []\n",
    "  \n",
    "    for word in vocab:\n",
    "        count = 0\n",
    "        \n",
    "        if isinstance(source, gensim.models.keyedvectors.KeyedVectors):      \n",
    "            source_most = [value[0] for value in source.most_similar(positive=[word], topn=top)]            \n",
    "        elif isinstance(source, dict):\n",
    "            source_most = [value[0] for value in source_model.most_similar_words(word, tops=top)]\n",
    "        \n",
    "        if isinstance(target, gensim.models.keyedvectors.KeyedVectors):\n",
    "            target_most = [value[0] for value in target.most_similar(positive=[word], topn=top)]\n",
    "        elif isinstance(target, dict):\n",
    "            target_most = [value[0] for value in target_model.most_similar_words(word, tops=top)]  \n",
    "\n",
    "\n",
    "        for i in range(top):\n",
    "            if source_most[i] in target_most:\n",
    "                count += 1\n",
    "\n",
    "        result.append(count / top)\n",
    "    return np.mean(result)    "
   ]
  },
  {
   "cell_type": "markdown",
   "metadata": {},
   "source": [
    "# Train samples"
   ]
  },
  {
   "cell_type": "code",
   "execution_count": 4,
   "metadata": {},
   "outputs": [],
   "source": [
    "tokens_size = 4000 \n",
    "\n",
    "def samples(size=4000):\n",
    "    tokens = []    \n",
    "    corpus_path = datapath('lee_background.cor')\n",
    "    for line in open(corpus_path):\n",
    "        tokens += utils.simple_preprocess(line)\n",
    "        if len(tokens) >= size:\n",
    "            tokens = tokens[:size]\n",
    "            break    \n",
    "    corpus = \" \".join(tokens)\n",
    "    return corpus, tokens\n",
    "\n",
    "corpus, sentences = samples()"
   ]
  },
  {
   "cell_type": "markdown",
   "metadata": {},
   "source": [
    "# Comparison of words similarity"
   ]
  },
  {
   "cell_type": "code",
   "execution_count": 5,
   "metadata": {},
   "outputs": [
    {
     "name": "stdout",
     "output_type": "stream",
     "text": [
      "Iter: 1\n",
      "window_size: 13 K: 15 time: 32.31 accuracy: 0.64\n",
      "window_size: 13 K: 20 time: 33.08 accuracy: 0.65\n",
      "window_size: 15 K: 15 time: 35.13 accuracy: 0.66\n",
      "window_size: 15 K: 20 time: 31.25 accuracy: 0.67\n",
      "Iter: 2\n",
      "window_size: 13 K: 15 time: 32.31 accuracy: 0.65\n",
      "window_size: 13 K: 20 time: 30.35 accuracy: 0.65\n",
      "window_size: 15 K: 15 time: 33.68 accuracy: 0.66\n",
      "window_size: 15 K: 20 time: 37.03 accuracy: 0.67\n"
     ]
    }
   ],
   "source": [
    "vector_sizes = [300]\n",
    "epochs = [20]\n",
    "window_sizes = [13, 15]\n",
    "Ks = [15, 20]  # negative samples count\n",
    "\n",
    "for i in range(2):\n",
    "    print(\"Iter:\", i + 1)\n",
    "    for epoch in epochs:\n",
    "        for vector_size in vector_sizes:\n",
    "            for window_size in window_sizes:\n",
    "                for K in Ks:\n",
    "                    model_naive = NaiveWord2VecNGS(window_size=window_size, learning_rate=0.1, n_dim=vector_size, epochs=epoch, neg_samples=K)\n",
    "                    start_time = time()\n",
    "                    model_naive.train(corpus, compute_loss=True)\n",
    "                    end_time = time()-start_time\n",
    "\n",
    "                    gensim_model_ngs = gensim.models.Word2Vec(\n",
    "                        sentences=[sentences],\n",
    "                        vector_size=vector_size,\n",
    "                        window=window_size,\n",
    "                        alpha=0.1,\n",
    "                        epochs=epoch,\n",
    "                        min_count=0,\n",
    "                        sg=1,\n",
    "                        hs=0,\n",
    "                        negative=K,\n",
    "                        workers=1, compute_loss=False, batch_words=1, seed=42)\n",
    "\n",
    "                    vocab = gensim_model_ngs.wv.key_to_index\n",
    "\n",
    "                    print(\"window_size:\", window_size, \"K:\", K, \"time:\", round(end_time, 2), \"accuracy:\", round(most_similar_score(vocab, model_naive.w2v, gensim_model_ngs.wv, source_model=model_naive, target_model=gensim_model_ngs, top=10), 2))\n"
   ]
  }
 ],
 "metadata": {
  "interpreter": {
   "hash": "63fd5069d213b44bf678585dea6b12cceca9941eaf7f819626cde1f2670de90d"
  },
  "kernelspec": {
   "display_name": "Python 3.9.1 64-bit",
   "language": "python",
   "name": "python3"
  },
  "language_info": {
   "codemirror_mode": {
    "name": "ipython",
    "version": 3
   },
   "file_extension": ".py",
   "mimetype": "text/x-python",
   "name": "python",
   "nbconvert_exporter": "python",
   "pygments_lexer": "ipython3",
   "version": "3.9.5"
  },
  "orig_nbformat": 4
 },
 "nbformat": 4,
 "nbformat_minor": 2
}
